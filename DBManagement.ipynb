{
 "cells": [
  {
   "attachments": {},
   "cell_type": "markdown",
   "metadata": {},
   "source": [
    "## Part 1.1 - Database Management\n",
    "\n",
    "This first section is for setup and importing data into a new database."
   ]
  },
  {
   "cell_type": "code",
   "execution_count": 2,
   "metadata": {},
   "outputs": [],
   "source": [
    "import pandas as pd\n",
    "import sqlite3"
   ]
  },
  {
   "cell_type": "code",
   "execution_count": 3,
   "metadata": {},
   "outputs": [
    {
     "data": {
      "text/html": [
       "<div>\n",
       "<style scoped>\n",
       "    .dataframe tbody tr th:only-of-type {\n",
       "        vertical-align: middle;\n",
       "    }\n",
       "\n",
       "    .dataframe tbody tr th {\n",
       "        vertical-align: top;\n",
       "    }\n",
       "\n",
       "    .dataframe thead th {\n",
       "        text-align: right;\n",
       "    }\n",
       "</style>\n",
       "<table border=\"1\" class=\"dataframe\">\n",
       "  <thead>\n",
       "    <tr style=\"text-align: right;\">\n",
       "      <th></th>\n",
       "      <th>id</th>\n",
       "      <th>timestamp</th>\n",
       "      <th>season</th>\n",
       "      <th>holiday</th>\n",
       "      <th>workingday</th>\n",
       "      <th>weather</th>\n",
       "      <th>temp</th>\n",
       "      <th>temp_feel</th>\n",
       "      <th>humidity</th>\n",
       "      <th>windspeed</th>\n",
       "      <th>demand</th>\n",
       "    </tr>\n",
       "  </thead>\n",
       "  <tbody>\n",
       "    <tr>\n",
       "      <th>0</th>\n",
       "      <td>1</td>\n",
       "      <td>2017-01-01 00:00:00</td>\n",
       "      <td>spring</td>\n",
       "      <td>No</td>\n",
       "      <td>No</td>\n",
       "      <td>Clear or partly cloudy</td>\n",
       "      <td>9.84</td>\n",
       "      <td>14.395</td>\n",
       "      <td>81.0</td>\n",
       "      <td>0.0</td>\n",
       "      <td>2.772589</td>\n",
       "    </tr>\n",
       "    <tr>\n",
       "      <th>1</th>\n",
       "      <td>2</td>\n",
       "      <td>2017-01-01 01:00:00</td>\n",
       "      <td>spring</td>\n",
       "      <td>No</td>\n",
       "      <td>No</td>\n",
       "      <td>Clear or partly cloudy</td>\n",
       "      <td>9.02</td>\n",
       "      <td>13.635</td>\n",
       "      <td>80.0</td>\n",
       "      <td>0.0</td>\n",
       "      <td>3.688879</td>\n",
       "    </tr>\n",
       "    <tr>\n",
       "      <th>2</th>\n",
       "      <td>3</td>\n",
       "      <td>2017-01-01 02:00:00</td>\n",
       "      <td>spring</td>\n",
       "      <td>No</td>\n",
       "      <td>No</td>\n",
       "      <td>Clear or partly cloudy</td>\n",
       "      <td>9.02</td>\n",
       "      <td>13.635</td>\n",
       "      <td>80.0</td>\n",
       "      <td>0.0</td>\n",
       "      <td>3.465736</td>\n",
       "    </tr>\n",
       "    <tr>\n",
       "      <th>3</th>\n",
       "      <td>4</td>\n",
       "      <td>2017-01-01 03:00:00</td>\n",
       "      <td>spring</td>\n",
       "      <td>No</td>\n",
       "      <td>No</td>\n",
       "      <td>Clear or partly cloudy</td>\n",
       "      <td>9.84</td>\n",
       "      <td>14.395</td>\n",
       "      <td>75.0</td>\n",
       "      <td>0.0</td>\n",
       "      <td>2.564949</td>\n",
       "    </tr>\n",
       "    <tr>\n",
       "      <th>4</th>\n",
       "      <td>5</td>\n",
       "      <td>2017-01-01 04:00:00</td>\n",
       "      <td>spring</td>\n",
       "      <td>No</td>\n",
       "      <td>No</td>\n",
       "      <td>Clear or partly cloudy</td>\n",
       "      <td>9.84</td>\n",
       "      <td>14.395</td>\n",
       "      <td>75.0</td>\n",
       "      <td>0.0</td>\n",
       "      <td>0.000000</td>\n",
       "    </tr>\n",
       "  </tbody>\n",
       "</table>\n",
       "</div>"
      ],
      "text/plain": [
       "   id            timestamp  season holiday workingday                 weather  \\\n",
       "0   1  2017-01-01 00:00:00  spring      No         No  Clear or partly cloudy   \n",
       "1   2  2017-01-01 01:00:00  spring      No         No  Clear or partly cloudy   \n",
       "2   3  2017-01-01 02:00:00  spring      No         No  Clear or partly cloudy   \n",
       "3   4  2017-01-01 03:00:00  spring      No         No  Clear or partly cloudy   \n",
       "4   5  2017-01-01 04:00:00  spring      No         No  Clear or partly cloudy   \n",
       "\n",
       "   temp  temp_feel  humidity  windspeed    demand  \n",
       "0  9.84     14.395      81.0        0.0  2.772589  \n",
       "1  9.02     13.635      80.0        0.0  3.688879  \n",
       "2  9.02     13.635      80.0        0.0  3.465736  \n",
       "3  9.84     14.395      75.0        0.0  2.564949  \n",
       "4  9.84     14.395      75.0        0.0  0.000000  "
      ]
     },
     "execution_count": 3,
     "metadata": {},
     "output_type": "execute_result"
    }
   ],
   "source": [
    "df = pd.read_csv('CarSharing.csv')\n",
    "df.head()"
   ]
  },
  {
   "cell_type": "code",
   "execution_count": 3,
   "metadata": {},
   "outputs": [],
   "source": [
    "conn = sqlite3.connect('CarSharing.db', isolation_level = None)\n",
    "cur = conn.cursor()"
   ]
  },
  {
   "attachments": {},
   "cell_type": "markdown",
   "metadata": {},
   "source": [
    "Importing the Carsharing dataframe into a SQLite database."
   ]
  },
  {
   "cell_type": "code",
   "execution_count": 5,
   "metadata": {},
   "outputs": [
    {
     "data": {
      "text/plain": [
       "8708"
      ]
     },
     "execution_count": 5,
     "metadata": {},
     "output_type": "execute_result"
    }
   ],
   "source": [
    "df.to_sql('CarSharing', conn, if_exists = 'append', index = False)"
   ]
  },
  {
   "cell_type": "code",
   "execution_count": null,
   "metadata": {},
   "outputs": [],
   "source": [
    "#Creating the backup table.\n",
    "\n",
    "cur.execute(\"\"\"\n",
    "CREATE TABLE CarSharingBackup AS\n",
    "SELECT * FROM CarSharing;\n",
    "\"\"\")"
   ]
  },
  {
   "attachments": {},
   "cell_type": "markdown",
   "metadata": {},
   "source": [
    "Organizing the temperature data by creating a category column that contains a certain string variable depending on the value of the temperature column."
   ]
  },
  {
   "cell_type": "code",
   "execution_count": 4,
   "metadata": {},
   "outputs": [
    {
     "data": {
      "text/plain": [
       "<sqlite3.Cursor at 0x1f7c9c5e810>"
      ]
     },
     "execution_count": 4,
     "metadata": {},
     "output_type": "execute_result"
    }
   ],
   "source": [
    "cur.execute(\"\"\"\n",
    "ALTER TABLE CarSharing\n",
    "ADD COLUMN temp_category;\n",
    "\"\"\")\n",
    "\n",
    "cur.execute(\"\"\"\n",
    "UPDATE CarSharing\n",
    "SET temp_category = CASE\n",
    "    WHEN temp_feel < 10 THEN 'Cold'\n",
    "    WHEN temp_feel > 25 THEN 'Hot'\n",
    "    ELSE 'Mild'\n",
    "END;\n",
    "\"\"\")"
   ]
  },
  {
   "attachments": {},
   "cell_type": "markdown",
   "metadata": {},
   "source": [
    "Now we can move the temperature data to another table and remove these columns from the main table, for the sake of organisation.\n"
   ]
  },
  {
   "cell_type": "code",
   "execution_count": null,
   "metadata": {},
   "outputs": [],
   "source": [
    "cur.execute(\"\"\"\n",
    "CREATE TABLE temperature AS\n",
    "SELECT temp, temp_feel, temp_category\n",
    "FROM CarSharing;\n",
    "\"\"\")"
   ]
  },
  {
   "attachments": {},
   "cell_type": "markdown",
   "metadata": {},
   "source": [
    "To remove the temperature columns from the CarSharing table, I'll temporarily create a new table without these columns and drop the original table."
   ]
  },
  {
   "cell_type": "code",
   "execution_count": 5,
   "metadata": {},
   "outputs": [
    {
     "data": {
      "text/plain": [
       "<sqlite3.Cursor at 0x1f7c9c5e810>"
      ]
     },
     "execution_count": 5,
     "metadata": {},
     "output_type": "execute_result"
    }
   ],
   "source": [
    "cur.execute(\"\"\"\n",
    "CREATE TABLE NewCarSharing AS\n",
    "SELECT id, timestamp, season, holiday, workingday, weather, humidity, windspeed, demand, temp_category\n",
    "FROM CarSharing;\n",
    "\"\"\")"
   ]
  },
  {
   "cell_type": "code",
   "execution_count": 6,
   "metadata": {},
   "outputs": [
    {
     "data": {
      "text/plain": [
       "<sqlite3.Cursor at 0x1f7c9c5e810>"
      ]
     },
     "execution_count": 6,
     "metadata": {},
     "output_type": "execute_result"
    }
   ],
   "source": [
    "cur.execute(\"\"\"\n",
    "DROP TABLE CarSharing;\n",
    "\"\"\")"
   ]
  },
  {
   "attachments": {},
   "cell_type": "markdown",
   "metadata": {},
   "source": [
    "I'll find the distinct values of 'Weather' in the main table and assign each one an integer code. These codes will be a foreign key to the new 'temperature' table to correspond to the distinct string values."
   ]
  },
  {
   "cell_type": "code",
   "execution_count": null,
   "metadata": {},
   "outputs": [],
   "source": [
    "cur.execute(\"\"\"\n",
    "ALTER TABLE NewCarSharing\n",
    "ADD COLUMN weather_code\n",
    "\"\"\")\n",
    "\n",
    "cur.execute(\"\"\"\n",
    "SELECT DISTINCT weather\n",
    "FROM NewCarSharing;\n",
    "\"\"\")\n",
    "\n",
    "cur.execute(\"\"\"\n",
    "UPDATE NewCarSharing\n",
    "SET weather_code = CASE\n",
    "    WHEN weather = 'Clear or partly cloudy' THEN '1'\n",
    "    WHEN weather = 'Mist' THEN '2'\n",
    "    WHEN weather = 'Light snow or rain' THEN '3'\n",
    "    ELSE '4'\n",
    "END;\n",
    "\"\"\")"
   ]
  },
  {
   "attachments": {},
   "cell_type": "markdown",
   "metadata": {},
   "source": [
    "The weather and weather_code features will be moved to a new 'weather' table."
   ]
  },
  {
   "attachments": {},
   "cell_type": "markdown",
   "metadata": {},
   "source": [
    "To remove the weather column, I'll now create the CarSharing table again by selecting every column except the weather column and add it to that table. I will then drop the temporary NewCarSharing table."
   ]
  },
  {
   "cell_type": "code",
   "execution_count": null,
   "metadata": {},
   "outputs": [],
   "source": [
    "cur.execute(\"\"\"\n",
    "CREATE TABLE weather AS \n",
    "SELECT DISTINCT weather_code, weather\n",
    "FROM NewCarSharing;\n",
    "\"\"\")"
   ]
  },
  {
   "cell_type": "code",
   "execution_count": null,
   "metadata": {},
   "outputs": [],
   "source": [
    "cur.execute(\"\"\"\n",
    "CREATE TABLE CarSharing AS\n",
    "SELECT id, timestamp, season, holiday, workingday, humidity, windspeed, demand, temp_category, weather_code\n",
    "FROM NewCarSharing;\n",
    "\"\"\")\n",
    "\n",
    "cur.execute(\"\"\"\n",
    "DROP TABLE NewCarSharing;\n",
    "\"\"\")"
   ]
  },
  {
   "attachments": {},
   "cell_type": "markdown",
   "metadata": {},
   "source": [
    "I'll now use strftime() to split the timestamp into hour, day and month columns. This will make the table easier to query when searching between certain dates."
   ]
  },
  {
   "cell_type": "code",
   "execution_count": null,
   "metadata": {},
   "outputs": [],
   "source": [
    "cur.execute(\"\"\"\n",
    "CREATE TABLE time AS\n",
    "SELECT timestamp, strftime('%H', timestamp) AS 'hour',\n",
    "strftime('%d', timestamp) AS 'day',\n",
    "strftime('%m', timestamp) AS 'month'\n",
    "FROM CarSharing;\n",
    "\"\"\")"
   ]
  },
  {
   "attachments": {},
   "cell_type": "markdown",
   "metadata": {},
   "source": [
    "With the database appropriately organised, we can use some example queries to find certain pieces of information between dates.\n",
    "\n",
    "A query to tell which date and time we had the highest demand rate in in 2017:"
   ]
  },
  {
   "cell_type": "code",
   "execution_count": null,
   "metadata": {},
   "outputs": [],
   "source": [
    "cur.execute(\"\"\"\n",
    "SELECT timestamp, demand\n",
    "FROM CarSharing\n",
    "WHERE timestamp BETWEEN date('2017-01-01') AND date('2017-12-31')\n",
    "ORDER BY demand DESC;\n",
    "\"\"\")"
   ]
  },
  {
   "attachments": {},
   "cell_type": "markdown",
   "metadata": {},
   "source": [
    "The highest demand for 2017 was 6.45833828334479 and was recorded at 2017-06-15 17:00:00 (15th June at 5pm)."
   ]
  },
  {
   "attachments": {},
   "cell_type": "markdown",
   "metadata": {},
   "source": [
    "I can use the new columns created by the strftime() function to query demand rates for each weekday, month and season. We can use a query to find the highest, lowest and average demand rates for each season, weekday and month within a specified timeframe."
   ]
  },
  {
   "cell_type": "code",
   "execution_count": null,
   "metadata": {},
   "outputs": [],
   "source": [
    "cur.execute(\"\"\"\n",
    "CREATE TABLE Q7b AS\n",
    "SELECT timestamp, season, demand, strftime('%w', timestamp) as 'weekday', strftime('%m', timestamp) as 'month'\n",
    "FROM CarSharing\n",
    "WHERE timestamp BETWEEN date('2017-01-01') AND date('2017-12-31');\n",
    "\"\"\")"
   ]
  },
  {
   "attachments": {},
   "cell_type": "markdown",
   "metadata": {},
   "source": [
    "To make the above table more readable, I'll use a CASE statement to turn the integer values in the 'weekday' and 'month' columns into strings."
   ]
  },
  {
   "cell_type": "code",
   "execution_count": null,
   "metadata": {},
   "outputs": [],
   "source": [
    "cur.execute(\"\"\"\n",
    "ALTER TABLE Q7b\n",
    "ADD COLUMN weekday_name\n",
    "\"\"\")\n",
    "\n",
    "cur.execute(\"\"\"\n",
    "ALTER TABLE Q7b\n",
    "ADD COLUMN month_name\n",
    "\"\"\")\n",
    "\n",
    "cur.execute(\"\"\"\n",
    "UPDATE Q7b\n",
    "SET weekday_name = CASE\n",
    "    WHEN CAST(weekday as integer) = 0 THEN 'Sunday'\n",
    "    WHEN CAST(weekday as integer) = 1 THEN 'Monday'\n",
    "    WHEN CAST(weekday as integer) = 2 THEN 'Tuesday'\n",
    "    WHEN CAST(weekday as integer) = 3 THEN 'Wednesday'\n",
    "    WHEN CAST(weekday as integer) = 4 THEN 'Thursday'\n",
    "    WHEN CAST(weekday as integer) = 5 THEN 'Friday'\n",
    "    WHEN CAST(weekday as integer) = 6 THEN 'Saturday'\n",
    "    ELSE NULL\n",
    "END;\n",
    "\"\"\")\n",
    "\n",
    "cur.execute(\"\"\"\n",
    "UPDATE Q7b\n",
    "SET month_name = CASE\n",
    "    WHEN CAST(month AS INTEGER) = 1 THEN 'January'\n",
    "    WHEN CAST(month AS INTEGER) = 2 THEN 'February'\n",
    "    WHEN CAST(month AS INTEGER) = 3 THEN 'March'\n",
    "    WHEN CAST(month AS INTEGER) = 4 THEN 'April'\n",
    "    WHEN CAST(month AS INTEGER) = 5 THEN 'May'\n",
    "    WHEN CAST(month AS INTEGER) = 6 THEN 'June'\n",
    "    WHEN CAST(month AS INTEGER) = 7 THEN 'July'\n",
    "    WHEN CAST(month AS INTEGER) = 8 THEN 'August'\n",
    "    WHEN CAST(month AS INTEGER) = 9 THEN 'September'\n",
    "    WHEN CAST(month AS INTEGER) = 10 THEN 'October'\n",
    "    WHEN CAST(month AS INTEGER) = 11 THEN 'November'\n",
    "    WHEN CAST(month AS INTEGER) = 12 THEN 'December'\n",
    "END;\n",
    "\"\"\")"
   ]
  },
  {
   "attachments": {},
   "cell_type": "markdown",
   "metadata": {},
   "source": [
    "Demand rates can now be grouped by the season, weekday name or month name in ascending/descending order to easily read the highest and lowest demand rates for that type."
   ]
  },
  {
   "cell_type": "code",
   "execution_count": null,
   "metadata": {},
   "outputs": [],
   "source": [
    "cur.execute(\"\"\"\n",
    "SELECT season, AVG(demand)\n",
    "FROM Q7b\n",
    "GROUP BY season\n",
    "ORDER BY AVG(demand) ASC;\n",
    "\"\"\")"
   ]
  },
  {
   "attachments": {},
   "cell_type": "markdown",
   "metadata": {},
   "source": [
    "The season with the lowest average demand was Spring, with an average demand value of 3.60685334031046\n",
    "\n",
    "The season in which demand was highest was Fall, with an average demand value of 4.6602701804789."
   ]
  },
  {
   "cell_type": "code",
   "execution_count": null,
   "metadata": {},
   "outputs": [],
   "source": [
    "cur.execute(\"\"\"\n",
    "SELECT weekday_name, AVG(demand)\n",
    "FROM Q7b\n",
    "GROUP BY weekday_name\n",
    "ORDER BY AVG(demand) ASC;\n",
    "\"\"\")"
   ]
  },
  {
   "attachments": {},
   "cell_type": "markdown",
   "metadata": {},
   "source": [
    "The weekday with the lowest average demand was Thursdays, with an average demand value of 4.35320177714456.\n",
    "\n",
    "The weekday with the highest demand was Saturdays, with an average demand value of 4.60194438507599"
   ]
  },
  {
   "cell_type": "code",
   "execution_count": null,
   "metadata": {},
   "outputs": [],
   "source": [
    "cur.execute(\"\"\"\n",
    "SELECT month_name, AVG(demand)\n",
    "FROM Q7_2017\n",
    "GROUP BY month_name\n",
    "ORDER BY AVG(demand) ASC;\n",
    "\"\"\")"
   ]
  },
  {
   "attachments": {},
   "cell_type": "markdown",
   "metadata": {},
   "source": [
    "The month with the lowest average demand was January, with an average demand value of 3.38831232953298.\n",
    "\n",
    "The month with the highest average demand was July, with an average demand value of 4.78765487641244."
   ]
  },
  {
   "attachments": {},
   "cell_type": "markdown",
   "metadata": {},
   "source": [
    "Now that we know which weekday had the highest demand rate, we can break this down further to see the average demand rate at each hour of this weekday throughout a specified timeframe. I'll query within 2017 again:"
   ]
  },
  {
   "cell_type": "code",
   "execution_count": null,
   "metadata": {},
   "outputs": [],
   "source": [
    "#The second query averages the demand values on the given weekday.\n",
    "\n",
    "cur.execute(\"\"\"\n",
    "CREATE TABLE Q7c AS\n",
    "SELECT timestamp, weekday_name, strftime('%H', timestamp) as 'hour', demand\n",
    "FROM Q7b;\n",
    "\"\"\")\n",
    "\n",
    "cur.execute(\"\"\"\n",
    "SELECT weekday_name, hour, AVG(demand)\n",
    "FROM Q7c\n",
    "WHERE weekday_name IS 'Saturday'\n",
    "GROUP BY hour\n",
    "ORDER BY AVG(demand) DESC;\n",
    "\"\"\")"
   ]
  },
  {
   "attachments": {},
   "cell_type": "markdown",
   "metadata": {},
   "source": [
    "The average demand on Saturdays through 2017 was its highest at 17:00, or 5pm on Saturday, with an average demand value of 5.89513809914992.\n",
    "\n",
    "The average demand on Saturdays was its lowest at 4:00, or 4am on Saturday, with an average demand of 1.3392704527639."
   ]
  },
  {
   "attachments": {},
   "cell_type": "markdown",
   "metadata": {},
   "source": [
    "We can also use queries to explore other features of the database table. We can take a count of the distinct weather conditions defined by the table to see which weather conditions were the most common in a specified timeframe. I can organise this data into new tables."
   ]
  },
  {
   "cell_type": "code",
   "execution_count": null,
   "metadata": {},
   "outputs": [],
   "source": [
    "cur.execute(\"\"\"\n",
    "SELECT timestamp, temp_category, COUNT(temp_category)\n",
    "FROM CarSharing\n",
    "WHERE timestamp BETWEEN date('2017-01-01') AND date('2017-12-31')\n",
    "GROUP BY temp_category;\n",
    "\"\"\")"
   ]
  },
  {
   "cell_type": "markdown",
   "metadata": {},
   "source": [
    "In 2017, mild weather was the most prevalent at 2735 hours. \n",
    "\n",
    "Hot weather was second-most prevalent at 2297 hours.\n",
    "\n",
    "Cold weather was the rarest in 2017, at only 390 hours recorded at this temperature."
   ]
  },
  {
   "cell_type": "code",
   "execution_count": null,
   "metadata": {},
   "outputs": [],
   "source": [
    "cur.execute(\"\"\"\n",
    "SELECT weather_code, COUNT(weather_code)\n",
    "FROM CarSharing\n",
    "GROUP BY weather_code;\n",
    "\"\"\")"
   ]
  },
  {
   "attachments": {},
   "cell_type": "markdown",
   "metadata": {},
   "source": [
    "‘Clear or partly cloudy’ weather accounted for 5858 hours, \n",
    "\n",
    "‘Mist’ accounted for 2142 hours, \n",
    "\n",
    "‘Light snow or rain’ accounted for 707 hours and \n",
    "\n",
    "‘heavy rain/ice pellets/snow + fog’ accounted for just one hour."
   ]
  },
  {
   "cell_type": "code",
   "execution_count": null,
   "metadata": {},
   "outputs": [],
   "source": [
    "#Creating the table for windspeed:\n",
    "\n",
    "cur.execute(\"\"\"\n",
    "CREATE TABLE Q7d_windspeed AS\n",
    "SELECT timestamp, AVG(windspeed), MAX(windspeed), MIN(windspeed), strftime('%Y-%m', timestamp) year_month\n",
    "FROM CarSharing\n",
    "WHERE timestamp BETWEEN date('2017-01-01') AND date('2017-12-31')\n",
    "GROUP BY year_month;\n",
    "\"\"\")"
   ]
  },
  {
   "cell_type": "markdown",
   "metadata": {},
   "source": [
    "The above table takes the average, maximum and minimum windspeed values for each month in 2017. The values for each month in 2017 are as follows:\n",
    "\n",
    "Jan 2017 - AVG = 13.7480523584906, MAX = 39.0007, MIN = 0\n",
    "\n",
    "Feb 2017 - AVG = 15.5777166281755, MAX = 51.9987, MIN = 0\n",
    "\n",
    "Mar 2017 - AVG = 15.9748841013825, MAX = 40.9973, MIN = 0\n",
    "\n",
    "Apr 2017 - AVG = 15.8522751121076, MAX = 40.9973, MIN = 0\n",
    "\n",
    "May 2017 - AVG = 12.4273908277405, MAX = 40.9973, MIN = 0\n",
    "\n",
    "Jun 2017 - AVG = 11.827618161435, MAX = 35.0008, MIN = 0\n",
    "\n",
    "Jul 2017 - AVG = 12.0158456570156, MAX = 56.9969, MIN = 0\n",
    "\n",
    "Aug 2017 - AVG = 12.4111223476298, MAX = 43.0006, MIN = 0\n",
    "\n",
    "Sep 2017 - AVG = 11.5640800894854, MAX = 40.9973, MIN = 0\n",
    "\n",
    "Oct 2017 - AVG = 10.8920523702032, MAX = 36.9974, MIN = 0\n",
    "\n",
    "Nov 2017 - AVG = 12.1422711711712, MAX = 36.9974, MIN = 0\n",
    "\n",
    "Dec 2017 - AVG = 10.8364595505618, MAX = 43.0006, MIN = 0"
   ]
  },
  {
   "cell_type": "code",
   "execution_count": null,
   "metadata": {},
   "outputs": [],
   "source": [
    "#Creating the table for humidity.\n",
    "\n",
    "cur.execute(\"\"\"\n",
    "CREATE TABLE Q7d_humidity AS\n",
    "SELECT timestamp, AVG(humidity), MAX(humidity), MIN(humidity), strftime('%Y-%m', timestamp) year_month\n",
    "FROM CarSharing\n",
    "WHERE timestamp BETWEEN date('2017-01-01') AND date('2017-12-31')\n",
    "GROUP BY year_month;\n",
    "\"\"\")"
   ]
  },
  {
   "cell_type": "markdown",
   "metadata": {},
   "source": [
    "The above table takes the average, maximum and minimum humidity values for each month in 2017. The values for each month in 2017 are as follows:\n",
    "\n",
    "Jan 2017 - AVG = 56.3076923076923, MAX = 100.0, MIN = 28.0\n",
    "\n",
    "Feb 2017 - AVG = 53.5807174887892, MAX = 100.0, MIN = 8.0\n",
    "\n",
    "Mar 2017 - AVG = 55.9977528089888, MAX = 100.0, MIN = 0\n",
    "\n",
    "Apr 2017 - AVG = 66.2488986784141, MAX = 100.0, MIN = 22.0\n",
    "\n",
    "May 2017 - AVG = 71.3714285714286, MAX = 100.0, MIN = 24.0\n",
    "\n",
    "Jun 2017 - AVG = 58.3708609271523, MAX = 100.0, MIN = 20.0\n",
    "\n",
    "Jul 2017 - AVG = 60.2920353982301, MAX = 94.0, MIN = 17.0\n",
    "\n",
    "Aug 2017 - AVG = 62.1736263736264, MAX = 94.0, MIN = 25.0\n",
    "\n",
    "Sep 2017 - AVG = 74.840354767184, MAX = 100.0, MIN = 42.0\n",
    "\n",
    "Oct 2017 - AVG = 71.5714285714286, MAX = 100.0, MIN = 29.0\n",
    "\n",
    "Nov 2017 - AVG = 64.1692307692308, MAX = 100.0, MIN = 27.0\n",
    "\n",
    "Dec 2017 - AVG = 65.1806167400881, MAX = 100.0, MIN = 26.0"
   ]
  },
  {
   "cell_type": "code",
   "execution_count": null,
   "metadata": {},
   "outputs": [],
   "source": [
    "#Creating the table to order average demand by weather condition\n",
    "\n",
    "cur.execute(\"\"\"\n",
    "CREATE TABLE Q7d_demand AS\n",
    "SELECT AVG(demand), temp_category\n",
    "FROM CarSharing\n",
    "GROUP BY temp_category\n",
    "ORDER BY AVG(demand) DESC;\n",
    "\"\"\")"
   ]
  },
  {
   "cell_type": "markdown",
   "metadata": {},
   "source": [
    "The above CREATE TABLE statement creates a table that shows the average demand in descending order for each temperature category. The results of that table are as shown:\n",
    "\n",
    "Hot - Average demand = 4.97154446778135\n",
    "\n",
    "Mild - Average demand = 4.13086082784128\n",
    "\n",
    "Cold - Average demand = 3.37549105486628"
   ]
  },
  {
   "attachments": {},
   "cell_type": "markdown",
   "metadata": {},
   "source": [
    "We can make another table for the month with the highest demand rate, according to the queries defined above. This information can then be compared to other months within the same timeframe."
   ]
  },
  {
   "cell_type": "code",
   "execution_count": null,
   "metadata": {},
   "outputs": [],
   "source": [
    "# First, I'll find the 2017 month with the highest average demand using a SELECT statement\n",
    "\n",
    "cur.execute(\"\"\"\n",
    "SELECT strftime('%Y-%m', timestamp) year_month, AVG(demand)\n",
    "FROM CarSharing\n",
    "WHERE timestamp BETWEEN date('2017-01-01') AND date('2017-12-31')\n",
    "GROUP BY year_month\n",
    "ORDER BY AVG(demand) DESC;\n",
    "\"\"\")"
   ]
  },
  {
   "cell_type": "markdown",
   "metadata": {},
   "source": [
    "The above SELECT statement shows that the month in 2017 with the highest average demand was July, with an average demand value of 4.78765487641244."
   ]
  },
  {
   "cell_type": "code",
   "execution_count": null,
   "metadata": {},
   "outputs": [],
   "source": [
    "#Compounding all information from (d) into one table for July 2017:\n",
    "\n",
    "cur.execute(\"\"\"\n",
    "CREATE TABLE Q7e AS\n",
    "SELECT strftime('%Y-%m', timestamp) year_month, AVG(windspeed), MAX(windspeed), MIN(windspeed),  AVG(humidity), MAX(humidity), MIN(humidity)\n",
    "FROM CarSharing\n",
    "WHERE year_month IS '2017-07';\n",
    "\"\"\")"
   ]
  },
  {
   "cell_type": "markdown",
   "metadata": {},
   "source": [
    "July 2017:\n",
    "\n",
    "Windspeed AVG = 12.0158456570156\n",
    "\n",
    "Windspeed MAX = 56.9969\n",
    "\n",
    "Windspeed MIN = 0\n",
    "\n",
    "Humidity AVG = 60.2920353982301\n",
    "\n",
    "Humidity MAX = 94.0\n",
    "\n",
    "Humidity MIN = 17.0"
   ]
  }
 ],
 "metadata": {
  "kernelspec": {
   "display_name": "Python 3",
   "language": "python",
   "name": "python3"
  },
  "language_info": {
   "codemirror_mode": {
    "name": "ipython",
    "version": 3
   },
   "file_extension": ".py",
   "mimetype": "text/x-python",
   "name": "python",
   "nbconvert_exporter": "python",
   "pygments_lexer": "ipython3",
   "version": "3.9.7 (tags/v3.9.7:1016ef3, Aug 30 2021, 20:19:38) [MSC v.1929 64 bit (AMD64)]"
  },
  "orig_nbformat": 4,
  "vscode": {
   "interpreter": {
    "hash": "94ce4ae5d80ea16004421d2d3936228e97d20d743d0e3e4ed4b4094e65e9a1d5"
   }
  }
 },
 "nbformat": 4,
 "nbformat_minor": 2
}
